{
  "nbformat": 4,
  "nbformat_minor": 0,
  "metadata": {
    "colab": {
      "name": "BasicWordleSolver.ipynb",
      "provenance": [],
      "collapsed_sections": [],
      "authorship_tag": "ABX9TyODAJb6I2T53m2bPhelr7cK",
      "include_colab_link": true
    },
    "kernelspec": {
      "name": "python3",
      "display_name": "Python 3"
    },
    "language_info": {
      "name": "python"
    }
  },
  "cells": [
    {
      "cell_type": "markdown",
      "metadata": {
        "id": "view-in-github",
        "colab_type": "text"
      },
      "source": [
        "<a href=\"https://colab.research.google.com/github/atarilover123/AudiovisualExperienceinMozillaHubs/blob/main/BasicWordleSolver.ipynb\" target=\"_parent\"><img src=\"https://colab.research.google.com/assets/colab-badge.svg\" alt=\"Open In Colab\"/></a>"
      ]
    },
    {
      "cell_type": "code",
      "source": [
        "!git clone https://github.com/dwyl/english-words"
      ],
      "metadata": {
        "id": "upHEB1dcG87k"
      },
      "execution_count": null,
      "outputs": []
    },
    {
      "cell_type": "code",
      "source": [
        "import json\n",
        "import csv\n",
        "\n",
        "words = open('/content/english-words/words_dictionary.json')\n",
        "words = json.load(words)\n",
        "\n",
        "word_csv = open('/content/words.csv', 'w')\n",
        "writecsv = csv.writer(word_csv)\n",
        "\n",
        "for i in words:\n",
        "\n",
        "  if len(i) == 5:\n",
        "      #print(len(i), i)\n",
        "      writecsv.writerow(i)\n",
        "\n",
        "word_csv.close()"
      ],
      "metadata": {
        "id": "pdmTJCJtILql"
      },
      "execution_count": null,
      "outputs": []
    },
    {
      "cell_type": "code",
      "source": [
        "import csv\n",
        "\n",
        "#input number you want to search\n",
        "l0 =('s')\n",
        "l1 = ('a')\n",
        "l2 = ('')\n",
        "l3 = ('')\n",
        "l4 = ('r')\n",
        "\n",
        "incorrect = 'f,b,g,c,d,x,k,z,l,m,n,o,p'\n",
        "\n",
        "fivers = csv.reader(open('/content/words.csv', \"r\"), delimiter=\",\")\n",
        "\n",
        "for row in fivers:\n",
        "    score = 0\n",
        "    if l0 == row[0] and l1 == row[1] or l2 == row[2] or l3 == row[3] and l4 == row[4]:\n",
        "      \n",
        "      for i in range(5):\n",
        "        for j in range(len(incorrect)):\n",
        "          if row[i] == incorrect[j]:\n",
        "            score+=1\n",
        "      \n",
        "      if score == 0:\n",
        "          print(row)\n"
      ],
      "metadata": {
        "id": "qAxjd-EAOSYU"
      },
      "execution_count": null,
      "outputs": []
    }
  ]
}